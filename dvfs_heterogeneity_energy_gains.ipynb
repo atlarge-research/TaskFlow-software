{
 "cells": [
  {
   "cell_type": "code",
   "execution_count": 2,
   "id": "objective-canal",
   "metadata": {},
   "outputs": [],
   "source": [
    "import os\n",
    "import pandas as pd\n",
    "import numpy as np\n",
    "from datetime import datetime\n",
    "from sortedcontainers import SortedDict\n",
    "from collections import namedtuple\n",
    "from operator import attrgetter\n",
    "from pandarallel import pandarallel"
   ]
  },
  {
   "cell_type": "code",
   "execution_count": 3,
   "id": "integral-shape",
   "metadata": {},
   "outputs": [
    {
     "name": "stdout",
     "output_type": "stream",
     "text": [
      "INFO: Pandarallel will run on 32 workers.\n",
      "INFO: Pandarallel will use Memory file system to transfer data between the main process and workers.\n"
     ]
    }
   ],
   "source": [
    "cache_dir = os.path.join(os.environ['VS'], \"energy_analysis_plot_cache\", \"dvfs_energy_gains\")\n",
    "os.makedirs(cache_dir, exist_ok=True)\n",
    "pandarallel.initialize(progress_bar=False)"
   ]
  },
  {
   "cell_type": "code",
   "execution_count": 5,
   "id": "korean-opportunity",
   "metadata": {},
   "outputs": [
    {
     "name": "stdout",
     "output_type": "stream",
     "text": [
      "1.066438763376932\n",
      "1.3102629656683709\n",
      "1.8633137119113572\n",
      "1.9308943089430897\n"
     ]
    }
   ],
   "source": [
    "dvfs_options = SortedDict()\n",
    "dvfs_options[1.0] = 0\n",
    "dvfs_options[1.2286] = 0.086\n",
    "dvfs_options[1.5344] = 0.126\n",
    "\n",
    "Machine = namedtuple('Machine', 'base_clock resources tdp energy_factor')\n",
    "machines = [\n",
    "    Machine(2.9, 128, 280, 280/128/2.9 ),\n",
    "    Machine(3.7, 24, 105, 105/24/3.7 ),\n",
    "    Machine(3.8, 16, 105, 105/16/3.8 ),\n",
    "    Machine(4.1, 12, 95, 95/12/4.1),\n",
    "]"
   ]
  },
  {
   "cell_type": "code",
   "execution_count": 6,
   "id": "sacred-adrian",
   "metadata": {},
   "outputs": [],
   "source": [
    "input_path = \"./WTA/parquet/\"\n",
    "slack_folder = os.path.join(os.environ['VS'], \"ic2e-wta-output\", \"look_ahead\")\n",
    "\n",
    "df_filename = os.path.join(cache_dir, \"task_slack_factors.parquet\")\n",
    "# os.remove(df_filename)\n",
    "if not os.path.exists(df_filename):\n",
    "\n",
    "    folders = next(os.walk(input_path))[1]\n",
    "\n",
    "    domains = [\n",
    "        (\"Industrial\", {\"google\", \"alibaba\", \"sigma\", \"shell\"}),\n",
    "        (\"Engineering\", {\"askalon\",})\n",
    "    ]\n",
    "\n",
    "    dataframes = []\n",
    "\n",
    "    for folder in folders:\n",
    "        if \"google\" in str(folder).lower(): continue\n",
    "        if \"lanl\" in str(folder).lower(): continue\n",
    "        if \"two_sigma\" in str(folder).lower(): continue\n",
    "        if \"alibaba\" in str(folder).lower() and \"100k\" not in str(folder).lower(): continue\n",
    "\n",
    "        data_folder = os.path.join(input_path, folder)\n",
    "\n",
    "        if not os.path.exists(os.path.join(data_folder, \"tasks\", \"schema-1.0\")):\n",
    "            continue\n",
    "\n",
    "        try:\n",
    "            df = pd.read_parquet(os.path.join(data_folder, \"tasks\", \"schema-1.0\"),\n",
    "                         columns=[\n",
    "                             \"workflow_id\", \"id\", \"runtime\", \"resource_amount_requested\"\n",
    "                         ], engine='pyarrow')\n",
    "\n",
    "\n",
    "            df2 = pd.read_parquet(os.path.join(slack_folder, folder.replace(\"_parquet\", \"_slack.parquet\")),\n",
    "                                  columns=[\"workflow_id\", \"task_id\", \"task_slack\"],\n",
    "                                  engine='pyarrow')\n",
    "            df2.rename(columns={\"task_id\": \"id\"}, inplace=True)\n",
    "            df2.reset_index(inplace=True, drop=True)\n",
    "\n",
    "            df = df.merge(df2, on=[\"workflow_id\", \"id\"], how='inner')\n",
    "        except Exception as e:\n",
    "            print(folder)\n",
    "            print(df.head())\n",
    "            print(df2.head())\n",
    "            raise e\n",
    "\n",
    "        # Some tasks have a runtime of 0, which would be unfair to take into account as you can delay them\n",
    "        # by any factor. We filter those out.\n",
    "        df = df[df['runtime'] > 0]\n",
    "\n",
    "        # Compute the maximum delay factor tasks can have\n",
    "        df[\"factor\"] = ((df[\"runtime\"]+df[\"task_slack\"]) / df[\"runtime\"])\n",
    "#         df.drop([\"runtime\", \"task_slack\"], axis=1, inplace=True)\n",
    "        domain = 'Scientific'\n",
    "        if any(d in folder.lower() for d in domains[0][1]):\n",
    "            domain = domains[0][0]\n",
    "        elif any(d in folder.lower() for d in domains[1][1]):\n",
    "            domain = domains[1][0]\n",
    "        df[\"domain\"] = domain\n",
    "\n",
    "        dataframes.append(df)\n",
    "    \n",
    "    value_df = pd.concat(dataframes)\n",
    "    value_df.reset_index(drop=True, inplace=True)\n",
    "    value_df.to_parquet(df_filename, engine=\"pyarrow\")\n",
    "else:\n",
    "    value_df = pd.read_parquet(df_filename, engine=\"pyarrow\")  \n",
    "    "
   ]
  },
  {
   "cell_type": "code",
   "execution_count": 64,
   "id": "emotional-reaction",
   "metadata": {},
   "outputs": [
    {
     "name": "stdout",
     "output_type": "stream",
     "text": [
      "Minimum factor >= 1.0:  True\n"
     ]
    }
   ],
   "source": [
    "# Sanity check\n",
    "print(\"Minimum factor >= 1.0: \", value_df[\"factor\"].min() >= 0)"
   ]
  },
  {
   "cell_type": "code",
   "execution_count": 102,
   "id": "tight-treaty",
   "metadata": {},
   "outputs": [
    {
     "name": "stdout",
     "output_type": "stream",
     "text": [
      "\\begin{table}[t]\n",
      "\\caption{Average Energy Reduction per domain using \\gls{dvfs}.}\n",
      "\\label{slack:tbl:average-dvfs-gains}\n",
      "\\adjustbox{max width=\\linewidth}{\n",
      "\\begin{tabular}{lrrr}\n",
      "\\toprule\n",
      "Domain                   & Engineering & Industrial & Scientific \\\\ \\midrule\n",
      "Energy reduction & 7.62\\%            & 11.35\\%           & 4.24\\%           \\\\  \\cmidrule{2-4}\n",
      "Overall average & \\multicolumn{3}{c}{11.31\\%}                  \\\\  \\bottomrule\n",
      "\\end{tabular}\n",
      "}\n",
      "\\end{table}\n"
     ]
    }
   ],
   "source": [
    "# This cell outputs the theoretical gains by solely using DVFS to trade-off slack for reduced energy\n",
    "t = '''\\\\begin{{table}}[t]\n",
    "\\\\caption{{Average Energy Reduction per domain using \\gls{{dvfs}}.}}\n",
    "\\\\label{{slack:tbl:average-dvfs-gains}}\n",
    "\\\\adjustbox{{max width=\\\\linewidth}}{{\n",
    "\\\\begin{{tabular}}{{lrrr}}\n",
    "\\\\toprule\n",
    "Domain                   & Engineering & Industrial & Scientific \\\\\\\\ \\\\midrule\n",
    "Energy reduction & {1}\\\\%            & {2}\\\\%           & {3}\\\\%           \\\\\\\\  \\\\cmidrule{{2-4}}\n",
    "Overall average & \\\\multicolumn{{3}}{{c}}{{{0}\\%}}                  \\\\\\\\  \\\\bottomrule\n",
    "\\\\end{{tabular}}\n",
    "}}\n",
    "\\\\end{{table}}'''\n",
    "\n",
    "values = []\n",
    "\n",
    "def map_factor_to_dvfs_gain(x):\n",
    "    return max([energy_saving for delay_factor, energy_saving in dvfs_options.items() if delay_factor <= x])\n",
    "            \n",
    "\n",
    "values.append(value_df[\"factor\"].parallel_map(map_factor_to_dvfs_gain).mean() * 100)\n",
    "for domain in [\"Engineering\", \"Industrial\", \"Scientific\"]:\n",
    "#     print(value_df[value_df['domain'] == domain][\"factor\"].map(map_factor_to_dvfs_gain).describe())\n",
    "    values.append(value_df[value_df['domain'] == domain][\"factor\"].parallel_map(map_factor_to_dvfs_gain).mean() * 100)\n",
    "\n",
    "print(t.format(*[\"{:,.2f}\".format(v) for v in [\n",
    "    *values\n",
    "]]))"
   ]
  },
  {
   "cell_type": "code",
   "execution_count": 10,
   "id": "skilled-reggae",
   "metadata": {},
   "outputs": [
    {
     "name": "stdout",
     "output_type": "stream",
     "text": [
      "\\begin{table}[t]\n",
      "\\caption{Average energy reduction per domain using heterogeneity.}\n",
      "\\label{slack:tbl:average-heterogeneity-gains}\n",
      "\\adjustbox{max width=\\linewidth}{\n",
      "\\begin{tabular}{lrrr}\n",
      "\\toprule\n",
      "Domain                   & Engineering & Industrial & Scientific \\\\ \\midrule\n",
      "Energy reduction & 28.31\\%            & 41.61\\%           & 16.68\\%           \\\\  \\cmidrule{2-4}\n",
      "Overall average & \\multicolumn{3}{c}{41.47\\%}                  \\\\  \\bottomrule\n",
      "\\end{tabular}\n",
      "}\n",
      "\\end{table}\n"
     ]
    }
   ],
   "source": [
    "# This cell outputs the theoretical gains by solely using heterogeneity to trade-off slack for reduced energy\n",
    "t = '''\\\\begin{{table}}[t]\n",
    "\\\\caption{{Average energy reduction per domain using heterogeneity.}}\n",
    "\\\\label{{slack:tbl:average-heterogeneity-gains}}\n",
    "\\\\adjustbox{{max width=\\\\linewidth}}{{\n",
    "\\\\begin{{tabular}}{{lrrr}}\n",
    "\\\\toprule\n",
    "Domain                   & Engineering & Industrial & Scientific \\\\\\\\ \\\\midrule\n",
    "Energy reduction & {1}\\\\%            & {2}\\\\%           & {3}\\\\%           \\\\\\\\  \\\\cmidrule{{2-4}}\n",
    "Overall average & \\\\multicolumn{{3}}{{c}}{{{0}\\%}}                  \\\\\\\\  \\\\bottomrule\n",
    "\\\\end{{tabular}}\n",
    "}}\n",
    "\\\\end{{table}}'''\n",
    "\n",
    "values = []\n",
    "fastest_machine =  max([m for m in machines], key=attrgetter('base_clock'))\n",
    "def map_factor_to_machine_efficiency(x):\n",
    "    best_machine = min([m for m in machines if fastest_machine.base_clock / m.base_clock <= x],\n",
    "                         key= lambda m: (fastest_machine.base_clock / m.base_clock) * m.energy_factor)\n",
    "    return 1 - ((fastest_machine.base_clock / best_machine.base_clock) * best_machine.energy_factor / fastest_machine.energy_factor)\n",
    "            \n",
    "\n",
    "values.append(value_df[\"factor\"].parallel_map(map_factor_to_machine_efficiency).mean() * 100)\n",
    "for domain in [\"Engineering\", \"Industrial\", \"Scientific\"]:\n",
    "#     print(value_df[value_df['domain'] == domain][\"factor\"].map(map_factor_to_dvfs_gain).describe())\n",
    "    values.append(value_df[value_df['domain'] == domain][\"factor\"].parallel_map(map_factor_to_machine_efficiency).mean() * 100)\n",
    "\n",
    "print(t.format(*[\"{:,.2f}\".format(v) for v in [\n",
    "    *values\n",
    "]]))"
   ]
  },
  {
   "cell_type": "code",
   "execution_count": 13,
   "id": "union-corpus",
   "metadata": {},
   "outputs": [
    {
     "name": "stdout",
     "output_type": "stream",
     "text": [
      "\\begin{table}[t]\n",
      "\\caption{Average energy reduction per domain using both heterogeneity and \\gls{dvfs}.}\n",
      "\\label{slack:tbl:average-heterogeneity-dvfs-gains}\n",
      "\\adjustbox{max width=\\linewidth}{\n",
      "\\begin{tabular}{lrrr}\n",
      "\\toprule\n",
      "Domain                   & Engineering & Industrial & Scientific \\\\ \\midrule\n",
      "Energy reduction & 32.11\\%            & 47.00\\%           & 18.45\\%           \\\\  \\cmidrule{2-4}\n",
      "Overall average & \\multicolumn{3}{c}{46.85\\%}                  \\\\  \\bottomrule\n",
      "\\end{tabular}\n",
      "}\n",
      "\\end{table}\n"
     ]
    }
   ],
   "source": [
    "# This cell outputs the theoretical gains by using heterogeneity and afterwards DVFS to trade-off slack for reduced energy\n",
    "t = '''\\\\begin{{table}}[t]\n",
    "\\\\caption{{Average energy reduction per domain using both heterogeneity and \\\\gls{{dvfs}}.}}\n",
    "\\\\label{{slack:tbl:average-heterogeneity-dvfs-gains}}\n",
    "\\\\adjustbox{{max width=\\\\linewidth}}{{\n",
    "\\\\begin{{tabular}}{{lrrr}}\n",
    "\\\\toprule\n",
    "Domain                   & Engineering & Industrial & Scientific \\\\\\\\ \\\\midrule\n",
    "Energy reduction & {1}\\\\%            & {2}\\\\%           & {3}\\\\%           \\\\\\\\  \\\\cmidrule{{2-4}}\n",
    "Overall average & \\\\multicolumn{{3}}{{c}}{{{0}\\%}}                  \\\\\\\\  \\\\bottomrule\n",
    "\\\\end{{tabular}}\n",
    "}}\n",
    "\\\\end{{table}}'''\n",
    "\n",
    "values = []\n",
    "fastest_machine =  max([m for m in machines], key=attrgetter('base_clock'))\n",
    "def map_factor_to_machine_and_dvfs_reduction(x):\n",
    "    best_machine = min([m for m in machines if fastest_machine.base_clock / m.base_clock <= x],\n",
    "                         key= lambda m: (fastest_machine.base_clock / m.base_clock) * m.energy_factor)\n",
    "    dvfs_factor =  max([energy_saving for delay_factor, energy_saving in dvfs_options.items() \n",
    "                        if delay_factor * (fastest_machine.base_clock / best_machine.base_clock) <= x])\n",
    "\n",
    "    return 1 - (((fastest_machine.base_clock / best_machine.base_clock) * best_machine.energy_factor / fastest_machine.energy_factor) * (1 - dvfs_factor))\n",
    "            \n",
    "\n",
    "values.append(value_df[\"factor\"].parallel_map(map_factor_to_machine_and_dvfs_reduction).mean() * 100)\n",
    "for domain in [\"Engineering\", \"Industrial\", \"Scientific\"]:\n",
    "#     print(value_df[value_df['domain'] == domain][\"factor\"].map(map_factor_to_dvfs_gain).describe())\n",
    "    values.append(value_df[value_df['domain'] == domain][\"factor\"].parallel_map(map_factor_to_machine_and_dvfs_reduction).mean() * 100)\n",
    "\n",
    "print(t.format(*[\"{:,.2f}\".format(v) for v in [\n",
    "    *values\n",
    "]]))"
   ]
  },
  {
   "cell_type": "code",
   "execution_count": 91,
   "id": "former-representation",
   "metadata": {},
   "outputs": [
    {
     "data": {
      "text/plain": [
       "[Machine(base_clock=2.9, resources=128, tdp=280, energy_factor=0.7543103448275862),\n",
       " Machine(base_clock=3.7, resources=24, tdp=105, energy_factor=1.1824324324324325),\n",
       " Machine(base_clock=3.8, resources=16, tdp=105, energy_factor=1.7269736842105263),\n",
       " Machine(base_clock=4.1, resources=12, tdp=95, energy_factor=1.9308943089430897)]"
      ]
     },
     "execution_count": 91,
     "metadata": {},
     "output_type": "execute_result"
    }
   ],
   "source": [
    "machines"
   ]
  }
 ],
 "metadata": {
  "kernelspec": {
   "display_name": "Python 3",
   "language": "python",
   "name": "python3"
  },
  "language_info": {
   "codemirror_mode": {
    "name": "ipython",
    "version": 3
   },
   "file_extension": ".py",
   "mimetype": "text/x-python",
   "name": "python",
   "nbconvert_exporter": "python",
   "pygments_lexer": "ipython3",
   "version": "3.7.4"
  }
 },
 "nbformat": 4,
 "nbformat_minor": 5
}
